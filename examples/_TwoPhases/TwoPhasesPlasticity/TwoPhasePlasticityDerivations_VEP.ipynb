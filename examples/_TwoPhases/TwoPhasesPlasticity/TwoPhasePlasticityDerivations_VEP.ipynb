{
 "cells": [
  {
   "cell_type": "code",
   "execution_count": 106,
   "id": "5d591535",
   "metadata": {},
   "outputs": [],
   "source": [
    "from sympy import *"
   ]
  },
  {
   "cell_type": "code",
   "execution_count": 107,
   "id": "b2052277",
   "metadata": {},
   "outputs": [],
   "source": [
    "divVs, divqD, Pt0, Pf0, phi0 = symbols('divVs, divqD, Pt0, Pf0, Φ0')\n",
    "K_s, K_f, K_phi, eta_phi, sin_psi, gamma = symbols('Ks, Kf, KΦ, ηΦ, sinψ, λ̇')\n",
    "Pt, Pf, dt = symbols('Pt, Pf, Δt')\n",
    "phi = symbols('Φ_trial')"
   ]
  },
  {
   "cell_type": "code",
   "execution_count": 108,
   "id": "27cd4106",
   "metadata": {},
   "outputs": [],
   "source": [
    "# K_f = K_phi\n",
    "# K_s = K_phi\n"
   ]
  },
  {
   "cell_type": "code",
   "execution_count": 109,
   "id": "d9735e6f",
   "metadata": {},
   "outputs": [],
   "source": [
    "# divVs, divqD, Pt0, Pf0, phi0 = symbols('divVs, divqD, Pt0, Pf0, phi0')\n",
    "# K_s, K_f, K_phi, eta_phi, sin_psi, gamma = symbols('K_s, K_f, K_phi, eta_phi, sin_psi, gamma')\n",
    "# Pt, Pf, dt = symbols('Pt, Pf, dt')\n",
    "# phi = symbols('phi')"
   ]
  },
  {
   "cell_type": "code",
   "execution_count": 110,
   "id": "1660cd02",
   "metadata": {},
   "outputs": [],
   "source": [
    "elastic = 1\n",
    "viscous = 1\n",
    "plastic = 1\n",
    "single_phase = 0"
   ]
  },
  {
   "cell_type": "code",
   "execution_count": 111,
   "id": "30863037",
   "metadata": {},
   "outputs": [
    {
     "data": {
      "text/latex": [
       "$\\displaystyle \\frac{Ks KΦ divVs Δt ηΦ \\left(Φ_{trial} - 1\\right) + Ks \\left(KΦ Δt \\left(Pf - Pt\\right) + ηΦ \\left(Pf - Pf_{0} - Pt + Pt_{0}\\right)\\right) + KΦ ηΦ \\left(- Pt + Pt_{0} + Φ_{trial} \\left(Pf - Pf_{0}\\right)\\right)}{Ks KΦ Δt ηΦ \\left(Φ_{trial} - 1\\right)}$"
      ],
      "text/plain": [
       "(Ks*KΦ*divVs*Δt*ηΦ*(Φ_trial - 1) + Ks*(KΦ*Δt*(Pf - Pt) + ηΦ*(Pf - Pf0 - Pt + Pt0)) + KΦ*ηΦ*(-Pt + Pt0 + Φ_trial*(Pf - Pf0)))/(Ks*KΦ*Δt*ηΦ*(Φ_trial - 1))"
      ]
     },
     "metadata": {},
     "output_type": "display_data"
    },
    {
     "data": {
      "text/latex": [
       "$\\displaystyle \\frac{Kf KΦ Δt ηΦ \\left(divVs Φ_{trial} + divqD\\right) + Kf KΦ Δt \\left(Pf - Pt\\right) + Kf ηΦ \\left(Pf - Pf_{0} - Pt + Pt_{0}\\right) + KΦ Φ_{trial} ηΦ \\left(Pf - Pf_{0}\\right)}{Kf KΦ Δt ηΦ}$"
      ],
      "text/plain": [
       "(Kf*KΦ*Δt*ηΦ*(divVs*Φ_trial + divqD) + Kf*KΦ*Δt*(Pf - Pt) + Kf*ηΦ*(Pf - Pf0 - Pt + Pt0) + KΦ*Φ_trial*ηΦ*(Pf - Pf0))/(Kf*KΦ*Δt*ηΦ)"
      ]
     },
     "metadata": {},
     "output_type": "display_data"
    }
   ],
   "source": [
    "dPtdt  = (Pt-Pt0)/dt\n",
    "dPfdt  = (Pf-Pf0)/dt\n",
    "dphidt = elastic/K_phi*(dPfdt-dPtdt) + viscous/eta_phi*(Pf - Pt)\n",
    "\n",
    "if single_phase==1:\n",
    "    dphidt = 0\n",
    "    phi = 0\n",
    "\n",
    "dlnrhosdt = elastic * 1/(K_s*(1-phi)) * (dPtdt - phi*dPfdt) \n",
    "fpt       = dlnrhosdt - dphidt/(1-phi) + divVs\n",
    "fpt       = fpt.simplify()\n",
    "\n",
    "dlnrhofdt = dPfdt/K_f\n",
    "fpf       = elastic * phi*dlnrhofdt + dphidt + phi*divVs + divqD\n",
    "fpf       = fpf.simplify()\n",
    "\n",
    "fphi = phi    - (phi0 + dphidt*dt)\n",
    "\n",
    "display(fpt)\n",
    "display(fpf)"
   ]
  },
  {
   "cell_type": "code",
   "execution_count": 112,
   "id": "62a974cd",
   "metadata": {},
   "outputs": [],
   "source": [
    "P_trial = solve([fpt, fpf], [Pt, Pf])"
   ]
  },
  {
   "cell_type": "code",
   "execution_count": 113,
   "id": "7dd8c0bb",
   "metadata": {},
   "outputs": [
    {
     "data": {
      "text/plain": [
       "'(-Kf .* Ks .* KΦ .* divVs .* Δt .^ 2 - Kf .* Ks .* KΦ .* divqD .* Δt .^ 2 - Kf .* Ks .* divVs .* Δt .* ηΦ - Kf .* Ks .* divqD .* Δt .* ηΦ - Kf .* KΦ .* Pf0 .* Δt .* Φ_trial + Kf .* KΦ .* Pt0 .* Δt - Kf .* KΦ .* divVs .* Δt .* Φ_trial .^ 2 .* ηΦ - Kf .* KΦ .* divqD .* Δt .* Φ_trial .* ηΦ - Kf .* Pt0 .* Φ_trial .* ηΦ + Kf .* Pt0 .* ηΦ + Ks .* KΦ .* Pf0 .* Δt .* Φ_trial + Ks .* KΦ .* divVs .* Δt .* Φ_trial .^ 2 .* ηΦ - Ks .* KΦ .* divVs .* Δt .* Φ_trial .* ηΦ + Ks .* Pt0 .* Φ_trial .* ηΦ + KΦ .* Pt0 .* Φ_trial .* ηΦ) ./ (-Kf .* KΦ .* Δt .* Φ_trial + Kf .* KΦ .* Δt - Kf .* Φ_trial .* ηΦ + Kf .* ηΦ + Ks .* KΦ .* Δt .* Φ_trial + Ks .* Φ_trial .* ηΦ + KΦ .* Φ_trial .* ηΦ)'"
      ]
     },
     "execution_count": 113,
     "metadata": {},
     "output_type": "execute_result"
    }
   ],
   "source": [
    "julia_code(P_trial[Pt].simplify())"
   ]
  },
  {
   "cell_type": "code",
   "execution_count": 114,
   "id": "9f524448",
   "metadata": {},
   "outputs": [],
   "source": [
    "if single_phase==0:\n",
    "    julia_code(P_trial[Pf].simplify())"
   ]
  },
  {
   "cell_type": "code",
   "execution_count": 115,
   "id": "88a07ece",
   "metadata": {},
   "outputs": [],
   "source": [
    "if single_phase==0:\n",
    "    julia_code(solve(fphi, phi)[0] .simplify())"
   ]
  },
  {
   "cell_type": "code",
   "execution_count": 116,
   "id": "5be1aca6",
   "metadata": {},
   "outputs": [
    {
     "data": {
      "text/latex": [
       "$\\displaystyle Φ_{trial}$"
      ],
      "text/plain": [
       "Φ_trial"
      ]
     },
     "execution_count": 116,
     "metadata": {},
     "output_type": "execute_result"
    }
   ],
   "source": [
    "# t, dt, phi0, Pt0, Pf0   = symbols('t, dt, phi0, Pt0, Pf0')\n",
    "# phi1    = Function('phi')(t)\n",
    "# Pt1     = Function('Pt')(t)\n",
    "# Pf1     = Function('Pf')(t)\n",
    "# Ps1     = (Pt1 - phi1*Pf1)/(1-phi1) \n",
    "# Ps1.subs(Pt1.diff(t), 'dPtdt').subs(Pf1.diff(t), 'dPfdt').diff(t).subs(Pf1, 'Pf').subs(Pt1, 'Pt').subs(phi1.diff(t), 'dphidt').subs(phi1, 'phi')\n",
    "\n",
    "phi"
   ]
  },
  {
   "cell_type": "code",
   "execution_count": 117,
   "id": "5c2a94aa",
   "metadata": {},
   "outputs": [
    {
     "data": {
      "text/plain": [
       "{Pt: (Kf*Ks*KΦ*divVs*Δt**2 + Kf*Ks*KΦ*divqD*Δt**2 + Kf*Ks*divVs*Δt*ηΦ + Kf*Ks*divqD*Δt*ηΦ + Kf*KΦ*Pf0*Δt*Φ_trial - Kf*KΦ*Pt0*Δt + Kf*KΦ*divVs*Δt*Φ_trial**2*ηΦ + Kf*KΦ*divqD*Δt*Φ_trial*ηΦ + Kf*KΦ*sinψ*Δt*Φ_trial*ηΦ*λ̇ + Kf*Pt0*Φ_trial*ηΦ - Kf*Pt0*ηΦ - Ks*KΦ*Pf0*Δt*Φ_trial - Ks*KΦ*divVs*Δt*Φ_trial**2*ηΦ + Ks*KΦ*divVs*Δt*Φ_trial*ηΦ - Ks*KΦ*sinψ*Δt*Φ_trial*ηΦ*λ̇ - Ks*Pt0*Φ_trial*ηΦ - KΦ*Pt0*Φ_trial*ηΦ)/(Kf*KΦ*Δt*Φ_trial - Kf*KΦ*Δt + Kf*Φ_trial*ηΦ - Kf*ηΦ - Ks*KΦ*Δt*Φ_trial - Ks*Φ_trial*ηΦ - KΦ*Φ_trial*ηΦ),\n",
       " Pf: (Kf*Ks*KΦ*divVs*Δt**2 + Kf*Ks*KΦ*divqD*Δt**2 + Kf*Ks*divVs*Δt*ηΦ + Kf*Ks*divqD*Δt*ηΦ + Kf*KΦ*Pf0*Δt*Φ_trial - Kf*KΦ*Pt0*Δt + Kf*KΦ*divVs*Δt*Φ_trial*ηΦ + Kf*KΦ*divqD*Δt*ηΦ + Kf*KΦ*sinψ*Δt*ηΦ*λ̇ + Kf*Pf0*Φ_trial*ηΦ - Kf*Pf0*ηΦ - Ks*KΦ*Pf0*Δt*Φ_trial - Ks*Pf0*Φ_trial*ηΦ - KΦ*Pf0*Φ_trial*ηΦ)/(Kf*KΦ*Δt*Φ_trial - Kf*KΦ*Δt + Kf*Φ_trial*ηΦ - Kf*ηΦ - Ks*KΦ*Δt*Φ_trial - Ks*Φ_trial*ηΦ - KΦ*Φ_trial*ηΦ)}"
      ]
     },
     "execution_count": 117,
     "metadata": {},
     "output_type": "execute_result"
    }
   ],
   "source": [
    "dPtdt  = (Pt-Pt0)/dt\n",
    "dPfdt  = (Pf-Pf0)/dt\n",
    "# phi    = phi0 + dphidt*dt\n",
    "\n",
    "if single_phase==1:\n",
    "    dphidt = plastic*gamma*sin_psi\n",
    "else:\n",
    "    # to be addressed (Thomsen)\n",
    "    dphidt = elastic*(dPfdt-dPtdt)/K_phi + viscous*(Pf - Pt)/eta_phi + plastic*gamma*sin_psi\n",
    "    \n",
    "# dlnrhosdt = elastic * 1/K_s * (dPtdt - phi*dPfdt)/(1-phi) \n",
    "# Ps     = (Pt - phi*Pf)/(1-phi) \n",
    "dPsdt = (dPtdt - phi*dPfdt) /(1-phi)\n",
    "# dPsdt = ((Pt - phi*Pf)/(1-phi) - (Pt0 - phi0*Pf0)/(1-phi0))/dt\n",
    "# dPsdt = dphidt*(Pt - Pf*phi)/(1-phi)**2 + (dPtdt - phi*dPfdt - 0*Pf*dphidt) / (1 - phi)\n",
    "dlnrhosdt = elastic * 1/K_s * ( dPsdt ) \n",
    "\n",
    "fpt = dlnrhosdt - dphidt/(1-phi) + divVs\n",
    "fpt = fpt.simplify()\n",
    "\n",
    "dlnrhofdt = dPfdt/K_f \n",
    "fpf  = elastic*phi*dlnrhofdt + dphidt + phi*divVs + divqD\n",
    "fpf = fpf.simplify()\n",
    "\n",
    "if single_phase==1:     \n",
    "    P_corr = solve([fpt], [Pt])\n",
    "else:\n",
    "    P_corr = solve([fpt, fpf], [Pt, Pf])\n",
    "P_corr"
   ]
  },
  {
   "cell_type": "code",
   "execution_count": 118,
   "id": "efb72f93",
   "metadata": {},
   "outputs": [
    {
     "data": {
      "text/latex": [
       "$\\displaystyle \\frac{Kf Ks KΦ divVs Δt^{2} + Kf Ks KΦ divqD Δt^{2} + Kf Ks divVs Δt ηΦ + Kf Ks divqD Δt ηΦ + Kf KΦ Pf_{0} Δt Φ_{trial} - Kf KΦ Pt_{0} Δt + Kf KΦ divVs Δt Φ_{trial}^{2} ηΦ + Kf KΦ divqD Δt Φ_{trial} ηΦ + Kf Pt_{0} Φ_{trial} ηΦ - Kf Pt_{0} ηΦ - Ks KΦ Pf_{0} Δt Φ_{trial} - Ks KΦ divVs Δt Φ_{trial}^{2} ηΦ + Ks KΦ divVs Δt Φ_{trial} ηΦ - Ks Pt_{0} Φ_{trial} ηΦ - KΦ Pt_{0} Φ_{trial} ηΦ}{Kf KΦ Δt Φ_{trial} - Kf KΦ Δt + Kf Φ_{trial} ηΦ - Kf ηΦ - Ks KΦ Δt Φ_{trial} - Ks Φ_{trial} ηΦ - KΦ Φ_{trial} ηΦ}$"
      ],
      "text/plain": [
       "(Kf*Ks*KΦ*divVs*Δt**2 + Kf*Ks*KΦ*divqD*Δt**2 + Kf*Ks*divVs*Δt*ηΦ + Kf*Ks*divqD*Δt*ηΦ + Kf*KΦ*Pf0*Δt*Φ_trial - Kf*KΦ*Pt0*Δt + Kf*KΦ*divVs*Δt*Φ_trial**2*ηΦ + Kf*KΦ*divqD*Δt*Φ_trial*ηΦ + Kf*Pt0*Φ_trial*ηΦ - Kf*Pt0*ηΦ - Ks*KΦ*Pf0*Δt*Φ_trial - Ks*KΦ*divVs*Δt*Φ_trial**2*ηΦ + Ks*KΦ*divVs*Δt*Φ_trial*ηΦ - Ks*Pt0*Φ_trial*ηΦ - KΦ*Pt0*Φ_trial*ηΦ)/(Kf*KΦ*Δt*Φ_trial - Kf*KΦ*Δt + Kf*Φ_trial*ηΦ - Kf*ηΦ - Ks*KΦ*Δt*Φ_trial - Ks*Φ_trial*ηΦ - KΦ*Φ_trial*ηΦ)"
      ]
     },
     "execution_count": 118,
     "metadata": {},
     "output_type": "execute_result"
    }
   ],
   "source": [
    "P_trial[Pt]"
   ]
  },
  {
   "cell_type": "code",
   "execution_count": 119,
   "id": "854a9378",
   "metadata": {},
   "outputs": [
    {
     "data": {
      "text/latex": [
       "$\\displaystyle \\frac{KΦ sinψ Δt Φ_{trial} ηΦ λ̇ \\left(- Kf + Ks\\right)}{- Kf KΦ Δt Φ_{trial} + Kf KΦ Δt - Kf Φ_{trial} ηΦ + Kf ηΦ + Ks KΦ Δt Φ_{trial} + Ks Φ_{trial} ηΦ + KΦ Φ_{trial} ηΦ}$"
      ],
      "text/plain": [
       "KΦ*sinψ*Δt*Φ_trial*ηΦ*λ̇*(-Kf + Ks)/(-Kf*KΦ*Δt*Φ_trial + Kf*KΦ*Δt - Kf*Φ_trial*ηΦ + Kf*ηΦ + Ks*KΦ*Δt*Φ_trial + Ks*Φ_trial*ηΦ + KΦ*Φ_trial*ηΦ)"
      ]
     },
     "metadata": {},
     "output_type": "display_data"
    },
    {
     "name": "stdout",
     "output_type": "stream",
     "text": [
      "ΔPt = KΦ .* sinψ .* Δt .* Φ_trial .* ηΦ .* λ̇ .* (-Kf + Ks) ./ (-Kf .* KΦ .* Δt .* Φ_trial + Kf .* KΦ .* Δt - Kf .* Φ_trial .* ηΦ + Kf .* ηΦ + Ks .* KΦ .* Δt .* Φ_trial + Ks .* Φ_trial .* ηΦ + KΦ .* Φ_trial .* ηΦ)\n"
     ]
    }
   ],
   "source": [
    "dPt = ((P_corr[Pt] - P_trial[Pt])).simplify()\n",
    "display(dPt)\n",
    "print('ΔPt = ' +  julia_code(dPt))"
   ]
  },
  {
   "cell_type": "code",
   "execution_count": 120,
   "id": "55a4d967",
   "metadata": {},
   "outputs": [
    {
     "name": "stdout",
     "output_type": "stream",
     "text": [
      "ΔPf = Kf .* KΦ .* sinψ .* Δt .* ηΦ .* λ̇ ./ (Kf .* KΦ .* Δt .* Φ_trial - Kf .* KΦ .* Δt + Kf .* Φ_trial .* ηΦ - Kf .* ηΦ - Ks .* KΦ .* Δt .* Φ_trial - Ks .* Φ_trial .* ηΦ - KΦ .* Φ_trial .* ηΦ)\n"
     ]
    },
    {
     "data": {
      "text/latex": [
       "$\\displaystyle \\frac{Kf KΦ sinψ Δt ηΦ λ̇}{Kf KΦ Δt Φ_{trial} - Kf KΦ Δt + Kf Φ_{trial} ηΦ - Kf ηΦ - Ks KΦ Δt Φ_{trial} - Ks Φ_{trial} ηΦ - KΦ Φ_{trial} ηΦ}$"
      ],
      "text/plain": [
       "Kf*KΦ*sinψ*Δt*ηΦ*λ̇/(Kf*KΦ*Δt*Φ_trial - Kf*KΦ*Δt + Kf*Φ_trial*ηΦ - Kf*ηΦ - Ks*KΦ*Δt*Φ_trial - Ks*Φ_trial*ηΦ - KΦ*Φ_trial*ηΦ)"
      ]
     },
     "metadata": {},
     "output_type": "display_data"
    }
   ],
   "source": [
    "if single_phase==0:\n",
    "    dPf = ((P_corr[Pf] - P_trial[Pf])).simplify()\n",
    "    julia_code(dPf)\n",
    "    print('ΔPf = ' +  julia_code(dPf))\n",
    "display(dPf)\n"
   ]
  },
  {
   "cell_type": "code",
   "execution_count": null,
   "id": "4d07a83f",
   "metadata": {},
   "outputs": [],
   "source": []
  }
 ],
 "metadata": {
  "kernelspec": {
   "display_name": "Python 3",
   "language": "python",
   "name": "python3"
  },
  "language_info": {
   "codemirror_mode": {
    "name": "ipython",
    "version": 3
   },
   "file_extension": ".py",
   "mimetype": "text/x-python",
   "name": "python",
   "nbconvert_exporter": "python",
   "pygments_lexer": "ipython3",
   "version": "3.9.6"
  }
 },
 "nbformat": 4,
 "nbformat_minor": 5
}
