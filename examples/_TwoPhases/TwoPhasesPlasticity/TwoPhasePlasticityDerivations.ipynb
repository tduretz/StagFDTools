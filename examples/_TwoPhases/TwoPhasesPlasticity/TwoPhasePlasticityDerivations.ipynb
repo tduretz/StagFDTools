{
 "cells": [
  {
   "cell_type": "code",
   "execution_count": 334,
   "id": "5d591535",
   "metadata": {},
   "outputs": [],
   "source": [
    "from sympy import *"
   ]
  },
  {
   "cell_type": "code",
   "execution_count": 335,
   "id": "d9735e6f",
   "metadata": {},
   "outputs": [],
   "source": [
    "divVs, divqD, Pt0, Pf0, phi_0 = symbols('divVs, divqD, Pt0, Pf0, phi_0')\n",
    "K_s, K_f, K_phi, eta_phi, sin_psi, gamma = symbols('K_s, K_f, K_phi, eta_phi, sin_psi, gamma')\n",
    "Pt, Pf, dt = symbols('Pt, Pf, dt')\n",
    "phi = symbols('phi')"
   ]
  },
  {
   "cell_type": "code",
   "execution_count": 336,
   "id": "1660cd02",
   "metadata": {},
   "outputs": [],
   "source": [
    "elastic = 1\n",
    "viscous = 1\n",
    "plastic = 1"
   ]
  },
  {
   "cell_type": "code",
   "execution_count": 337,
   "id": "30863037",
   "metadata": {},
   "outputs": [
    {
     "data": {
      "text/latex": [
       "$\\displaystyle \\frac{K_{\\phi} K_{s} divVs dt \\eta_{\\phi} \\left(\\phi - 1\\right) + K_{\\phi} \\eta_{\\phi} \\left(- Pt + Pt_{0} + \\phi \\left(Pf - Pf_{0}\\right)\\right) + K_{s} \\left(K_{\\phi} dt \\left(Pf - Pt\\right) + \\eta_{\\phi} \\left(Pf - Pf_{0} - Pt + Pt_{0}\\right)\\right)}{K_{\\phi} K_{s} dt \\eta_{\\phi} \\left(\\phi - 1\\right)}$"
      ],
      "text/plain": [
       "(K_phi*K_s*divVs*dt*eta_phi*(phi - 1) + K_phi*eta_phi*(-Pt + Pt0 + phi*(Pf - Pf0)) + K_s*(K_phi*dt*(Pf - Pt) + eta_phi*(Pf - Pf0 - Pt + Pt0)))/(K_phi*K_s*dt*eta_phi*(phi - 1))"
      ]
     },
     "metadata": {},
     "output_type": "display_data"
    },
    {
     "data": {
      "text/latex": [
       "$\\displaystyle \\frac{K_{f} K_{\\phi} dt \\eta_{\\phi} \\left(divVs \\phi + divqD\\right) + K_{f} K_{\\phi} dt \\left(Pf - Pt\\right) + K_{f} \\eta_{\\phi} \\left(Pf - Pf_{0} - Pt + Pt_{0}\\right) + K_{\\phi} \\eta_{\\phi} \\phi \\left(Pf - Pf_{0}\\right)}{K_{f} K_{\\phi} dt \\eta_{\\phi}}$"
      ],
      "text/plain": [
       "(K_f*K_phi*dt*eta_phi*(divVs*phi + divqD) + K_f*K_phi*dt*(Pf - Pt) + K_f*eta_phi*(Pf - Pf0 - Pt + Pt0) + K_phi*eta_phi*phi*(Pf - Pf0))/(K_f*K_phi*dt*eta_phi)"
      ]
     },
     "metadata": {},
     "output_type": "display_data"
    }
   ],
   "source": [
    "dPtdt  = (Pt-Pt0)/dt\n",
    "dPfdt  = (Pf-Pf0)/dt\n",
    "dphidt = elastic/K_phi*(dPfdt-dPtdt) + viscous/eta_phi*(Pf - Pt)\n",
    "# phi    = phi_0 + dphidt*dt\n",
    "\n",
    "# fpt = divVs + (dPtdt-phi*dPfdt)/K_s/(1-phi) + ( (dPtdt-dPfdt)/K_phi + (Pt-Pf)/eta_phi - gamma*sin_psi)/(1-phi)\n",
    "dlnrhosdt = elastic/K_s/(1-phi) * (dPtdt - phi*dPfdt) \n",
    "fpt       = dlnrhosdt - dphidt/(1-phi) + divVs\n",
    "fpt       = fpt.simplify()\n",
    "\n",
    "# fpf = divqD + divVs*phi + gamma*sin_psi + (Pf-Pt)/eta_phi + (dPfdt - dPtdt)/K_phi + phi*dPfdt/K_f\n",
    "dlnrhofdt = dPfdt/K_f\n",
    "fpf       = elastic*phi*dlnrhofdt + dphidt + phi*divVs + divqD\n",
    "fpf       = fpf.simplify()\n",
    "\n",
    "fphi = phi    - (phi_0 + dphidt*dt)\n",
    "\n",
    "display(fpt)\n",
    "display(fpf)"
   ]
  },
  {
   "cell_type": "code",
   "execution_count": 338,
   "id": "62a974cd",
   "metadata": {},
   "outputs": [],
   "source": [
    "P_trial = solve([fpt, fpf], [Pt, Pf])"
   ]
  },
  {
   "cell_type": "code",
   "execution_count": 339,
   "id": "7dd8c0bb",
   "metadata": {},
   "outputs": [
    {
     "data": {
      "text/plain": [
       "'(-K_f .* K_phi .* K_s .* divVs .* dt .^ 2 - K_f .* K_phi .* K_s .* divqD .* dt .^ 2 - K_f .* K_phi .* Pf0 .* dt .* phi + K_f .* K_phi .* Pt0 .* dt - K_f .* K_phi .* divVs .* dt .* eta_phi .* phi .^ 2 - K_f .* K_phi .* divqD .* dt .* eta_phi .* phi - K_f .* K_s .* divVs .* dt .* eta_phi - K_f .* K_s .* divqD .* dt .* eta_phi - K_f .* Pt0 .* eta_phi .* phi + K_f .* Pt0 .* eta_phi + K_phi .* K_s .* Pf0 .* dt .* phi + K_phi .* K_s .* divVs .* dt .* eta_phi .* phi .^ 2 - K_phi .* K_s .* divVs .* dt .* eta_phi .* phi + K_phi .* Pt0 .* eta_phi .* phi + K_s .* Pt0 .* eta_phi .* phi) ./ (-K_f .* K_phi .* dt .* phi + K_f .* K_phi .* dt - K_f .* eta_phi .* phi + K_f .* eta_phi + K_phi .* K_s .* dt .* phi + K_phi .* eta_phi .* phi + K_s .* eta_phi .* phi)'"
      ]
     },
     "execution_count": 339,
     "metadata": {},
     "output_type": "execute_result"
    }
   ],
   "source": [
    "julia_code(P_trial[Pt].simplify())"
   ]
  },
  {
   "cell_type": "code",
   "execution_count": 340,
   "id": "9f524448",
   "metadata": {},
   "outputs": [
    {
     "data": {
      "text/plain": [
       "'(-K_f .* K_phi .* K_s .* divVs .* dt .^ 2 - K_f .* K_phi .* K_s .* divqD .* dt .^ 2 - K_f .* K_phi .* Pf0 .* dt .* phi + K_f .* K_phi .* Pt0 .* dt - K_f .* K_phi .* divVs .* dt .* eta_phi .* phi - K_f .* K_phi .* divqD .* dt .* eta_phi - K_f .* K_s .* divVs .* dt .* eta_phi - K_f .* K_s .* divqD .* dt .* eta_phi - K_f .* Pf0 .* eta_phi .* phi + K_f .* Pf0 .* eta_phi + K_phi .* K_s .* Pf0 .* dt .* phi + K_phi .* Pf0 .* eta_phi .* phi + K_s .* Pf0 .* eta_phi .* phi) ./ (-K_f .* K_phi .* dt .* phi + K_f .* K_phi .* dt - K_f .* eta_phi .* phi + K_f .* eta_phi + K_phi .* K_s .* dt .* phi + K_phi .* eta_phi .* phi + K_s .* eta_phi .* phi)'"
      ]
     },
     "execution_count": 340,
     "metadata": {},
     "output_type": "execute_result"
    }
   ],
   "source": [
    "julia_code(P_trial[Pf].simplify())"
   ]
  },
  {
   "cell_type": "code",
   "execution_count": 341,
   "id": "88a07ece",
   "metadata": {},
   "outputs": [
    {
     "data": {
      "text/plain": [
       "'(K_phi .* dt .* (Pf - Pt) + K_phi .* eta_phi .* phi_0 + eta_phi .* (Pf - Pf0 - Pt + Pt0)) ./ (K_phi .* eta_phi)'"
      ]
     },
     "execution_count": 341,
     "metadata": {},
     "output_type": "execute_result"
    }
   ],
   "source": [
    "julia_code(solve(fphi, phi)[0] .simplify())"
   ]
  },
  {
   "cell_type": "code",
   "execution_count": 342,
   "id": "5c2a94aa",
   "metadata": {},
   "outputs": [
    {
     "data": {
      "text/plain": [
       "{Pt: (K_f*K_phi*K_s*divVs*dt**2 + K_f*K_phi*K_s*divqD*dt**2 + K_f*K_phi*Pf0*dt*phi - K_f*K_phi*Pt0*dt + K_f*K_phi*divVs*dt*eta_phi*phi**2 + K_f*K_phi*divqD*dt*eta_phi*phi + K_f*K_phi*dt*eta_phi*gamma*phi*sin_psi + K_f*K_s*divVs*dt*eta_phi + K_f*K_s*divqD*dt*eta_phi + K_f*Pt0*eta_phi*phi - K_f*Pt0*eta_phi - K_phi*K_s*Pf0*dt*phi - K_phi*K_s*divVs*dt*eta_phi*phi**2 + K_phi*K_s*divVs*dt*eta_phi*phi - K_phi*K_s*dt*eta_phi*gamma*phi*sin_psi - K_phi*Pt0*eta_phi*phi - K_s*Pt0*eta_phi*phi)/(K_f*K_phi*dt*phi - K_f*K_phi*dt + K_f*eta_phi*phi - K_f*eta_phi - K_phi*K_s*dt*phi - K_phi*eta_phi*phi - K_s*eta_phi*phi),\n",
       " Pf: (K_f*K_phi*K_s*divVs*dt**2 + K_f*K_phi*K_s*divqD*dt**2 + K_f*K_phi*Pf0*dt*phi - K_f*K_phi*Pt0*dt + K_f*K_phi*divVs*dt*eta_phi*phi + K_f*K_phi*divqD*dt*eta_phi + K_f*K_phi*dt*eta_phi*gamma*sin_psi + K_f*K_s*divVs*dt*eta_phi + K_f*K_s*divqD*dt*eta_phi + K_f*Pf0*eta_phi*phi - K_f*Pf0*eta_phi - K_phi*K_s*Pf0*dt*phi - K_phi*Pf0*eta_phi*phi - K_s*Pf0*eta_phi*phi)/(K_f*K_phi*dt*phi - K_f*K_phi*dt + K_f*eta_phi*phi - K_f*eta_phi - K_phi*K_s*dt*phi - K_phi*eta_phi*phi - K_s*eta_phi*phi)}"
      ]
     },
     "execution_count": 342,
     "metadata": {},
     "output_type": "execute_result"
    }
   ],
   "source": [
    "dPtdt  = (Pt-Pt0)/dt\n",
    "dPfdt  = (Pf-Pf0)/dt\n",
    "dphidt = elastic/K_phi*(dPfdt-dPtdt) + viscous/eta_phi*(Pf - Pt) + plastic*gamma*sin_psi\n",
    "# phi    = phi_0 + dphidt*dt\n",
    "\n",
    "dlnrhosdt = elastic/K_s/(1-phi) * (dPtdt - phi*dPfdt) \n",
    "fpt = dlnrhosdt - dphidt/(1-phi) + divVs\n",
    "fpt = fpt.simplify()\n",
    "\n",
    "dlnrhofdt = dPfdt/K_f\n",
    "fpf  = elastic*phi*dlnrhofdt + dphidt + phi*divVs + divqD\n",
    "fpf = fpf.simplify()\n",
    "\n",
    "P_corr = solve([fpt, fpf], [Pt, Pf])\n",
    "P_corr"
   ]
  },
  {
   "cell_type": "code",
   "execution_count": 343,
   "id": "efb72f93",
   "metadata": {},
   "outputs": [
    {
     "data": {
      "text/latex": [
       "$\\displaystyle \\frac{K_{f} K_{\\phi} K_{s} divVs dt^{2} + K_{f} K_{\\phi} K_{s} divqD dt^{2} + K_{f} K_{\\phi} Pf_{0} dt \\phi - K_{f} K_{\\phi} Pt_{0} dt + K_{f} K_{\\phi} divVs dt \\eta_{\\phi} \\phi^{2} + K_{f} K_{\\phi} divqD dt \\eta_{\\phi} \\phi + K_{f} K_{s} divVs dt \\eta_{\\phi} + K_{f} K_{s} divqD dt \\eta_{\\phi} + K_{f} Pt_{0} \\eta_{\\phi} \\phi - K_{f} Pt_{0} \\eta_{\\phi} - K_{\\phi} K_{s} Pf_{0} dt \\phi - K_{\\phi} K_{s} divVs dt \\eta_{\\phi} \\phi^{2} + K_{\\phi} K_{s} divVs dt \\eta_{\\phi} \\phi - K_{\\phi} Pt_{0} \\eta_{\\phi} \\phi - K_{s} Pt_{0} \\eta_{\\phi} \\phi}{K_{f} K_{\\phi} dt \\phi - K_{f} K_{\\phi} dt + K_{f} \\eta_{\\phi} \\phi - K_{f} \\eta_{\\phi} - K_{\\phi} K_{s} dt \\phi - K_{\\phi} \\eta_{\\phi} \\phi - K_{s} \\eta_{\\phi} \\phi}$"
      ],
      "text/plain": [
       "(K_f*K_phi*K_s*divVs*dt**2 + K_f*K_phi*K_s*divqD*dt**2 + K_f*K_phi*Pf0*dt*phi - K_f*K_phi*Pt0*dt + K_f*K_phi*divVs*dt*eta_phi*phi**2 + K_f*K_phi*divqD*dt*eta_phi*phi + K_f*K_s*divVs*dt*eta_phi + K_f*K_s*divqD*dt*eta_phi + K_f*Pt0*eta_phi*phi - K_f*Pt0*eta_phi - K_phi*K_s*Pf0*dt*phi - K_phi*K_s*divVs*dt*eta_phi*phi**2 + K_phi*K_s*divVs*dt*eta_phi*phi - K_phi*Pt0*eta_phi*phi - K_s*Pt0*eta_phi*phi)/(K_f*K_phi*dt*phi - K_f*K_phi*dt + K_f*eta_phi*phi - K_f*eta_phi - K_phi*K_s*dt*phi - K_phi*eta_phi*phi - K_s*eta_phi*phi)"
      ]
     },
     "execution_count": 343,
     "metadata": {},
     "output_type": "execute_result"
    }
   ],
   "source": [
    "P_trial[Pt]"
   ]
  },
  {
   "cell_type": "code",
   "execution_count": null,
   "id": "7cf824ff",
   "metadata": {},
   "outputs": [],
   "source": []
  },
  {
   "cell_type": "code",
   "execution_count": 344,
   "id": "854a9378",
   "metadata": {},
   "outputs": [
    {
     "data": {
      "text/plain": [
       "'K_phi .* dt .* eta_phi .* gamma .* phi .* sin_psi .* (-K_f + K_s) ./ (-K_f .* K_phi .* dt .* phi + K_f .* K_phi .* dt - K_f .* eta_phi .* phi + K_f .* eta_phi + K_phi .* K_s .* dt .* phi + K_phi .* eta_phi .* phi + K_s .* eta_phi .* phi)'"
      ]
     },
     "execution_count": 344,
     "metadata": {},
     "output_type": "execute_result"
    }
   ],
   "source": [
    "dPt = ((P_corr[Pt] - P_trial[Pt])).simplify()\n",
    "julia_code(dPt)"
   ]
  },
  {
   "cell_type": "code",
   "execution_count": 345,
   "id": "55a4d967",
   "metadata": {},
   "outputs": [
    {
     "data": {
      "text/plain": [
       "'K_f .* K_phi .* dt .* eta_phi .* gamma .* sin_psi ./ (K_f .* K_phi .* dt .* phi - K_f .* K_phi .* dt + K_f .* eta_phi .* phi - K_f .* eta_phi - K_phi .* K_s .* dt .* phi - K_phi .* eta_phi .* phi - K_s .* eta_phi .* phi)'"
      ]
     },
     "execution_count": 345,
     "metadata": {},
     "output_type": "execute_result"
    }
   ],
   "source": [
    "dPf = ((P_corr[Pf] - P_trial[Pf])).simplify()\n",
    "julia_code(dPf)"
   ]
  },
  {
   "cell_type": "code",
   "execution_count": null,
   "id": "4d07a83f",
   "metadata": {},
   "outputs": [],
   "source": []
  }
 ],
 "metadata": {
  "kernelspec": {
   "display_name": "Python 3",
   "language": "python",
   "name": "python3"
  },
  "language_info": {
   "codemirror_mode": {
    "name": "ipython",
    "version": 3
   },
   "file_extension": ".py",
   "mimetype": "text/x-python",
   "name": "python",
   "nbconvert_exporter": "python",
   "pygments_lexer": "ipython3",
   "version": "3.9.6"
  }
 },
 "nbformat": 4,
 "nbformat_minor": 5
}
