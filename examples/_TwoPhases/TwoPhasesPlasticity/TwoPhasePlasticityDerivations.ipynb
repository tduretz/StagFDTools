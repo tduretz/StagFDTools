{
 "cells": [
  {
   "cell_type": "code",
   "execution_count": 89,
   "id": "5d591535",
   "metadata": {},
   "outputs": [],
   "source": [
    "from sympy import *"
   ]
  },
  {
   "cell_type": "code",
   "execution_count": null,
   "id": "b2052277",
   "metadata": {},
   "outputs": [],
   "source": [
    "divVs, divqD, Pt0, Pf0, phi_0 = symbols('divVs, divqD, Pt0, Pf0, Φ0')\n",
    "K_s, K_f, K_phi, eta_phi, sin_psi, gamma = symbols('Ks, Kf, KΦ, ηΦ, sinψ, λ̇')\n",
    "Pt, Pf, dt = symbols('Pt, Pf, Δt')\n",
    "phi = symbols('Φ_trial')"
   ]
  },
  {
   "cell_type": "code",
   "execution_count": 91,
   "id": "d9735e6f",
   "metadata": {},
   "outputs": [],
   "source": [
    "# divVs, divqD, Pt0, Pf0, phi_0 = symbols('divVs, divqD, Pt0, Pf0, phi_0')\n",
    "# K_s, K_f, K_phi, eta_phi, sin_psi, gamma = symbols('K_s, K_f, K_phi, eta_phi, sin_psi, gamma')\n",
    "# Pt, Pf, dt = symbols('Pt, Pf, dt')\n",
    "# phi = symbols('phi')"
   ]
  },
  {
   "cell_type": "code",
   "execution_count": 92,
   "id": "1660cd02",
   "metadata": {},
   "outputs": [],
   "source": [
    "elastic = 1\n",
    "viscous = 1\n",
    "plastic = 1"
   ]
  },
  {
   "cell_type": "code",
   "execution_count": 93,
   "id": "30863037",
   "metadata": {},
   "outputs": [
    {
     "data": {
      "text/latex": [
       "$\\displaystyle \\frac{Ks KΦ divVs Δt ηΦ \\left(Φ_{trial} - 1\\right) + Ks \\left(KΦ Δt \\left(Pf - Pt\\right) + ηΦ \\left(Pf - Pf_{0} - Pt + Pt_{0}\\right)\\right) + KΦ ηΦ \\left(- Pt + Pt_{0} + Φ_{trial} \\left(Pf - Pf_{0}\\right)\\right)}{Ks KΦ Δt ηΦ \\left(Φ_{trial} - 1\\right)}$"
      ],
      "text/plain": [
       "(Ks*KΦ*divVs*Δt*ηΦ*(Φ_trial - 1) + Ks*(KΦ*Δt*(Pf - Pt) + ηΦ*(Pf - Pf0 - Pt + Pt0)) + KΦ*ηΦ*(-Pt + Pt0 + Φ_trial*(Pf - Pf0)))/(Ks*KΦ*Δt*ηΦ*(Φ_trial - 1))"
      ]
     },
     "metadata": {},
     "output_type": "display_data"
    },
    {
     "data": {
      "text/latex": [
       "$\\displaystyle \\frac{Kf KΦ Δt ηΦ \\left(divVs Φ_{trial} + divqD\\right) + Kf KΦ Δt \\left(Pf - Pt\\right) + Kf ηΦ \\left(Pf - Pf_{0} - Pt + Pt_{0}\\right) + KΦ Φ_{trial} ηΦ \\left(Pf - Pf_{0}\\right)}{Kf KΦ Δt ηΦ}$"
      ],
      "text/plain": [
       "(Kf*KΦ*Δt*ηΦ*(divVs*Φ_trial + divqD) + Kf*KΦ*Δt*(Pf - Pt) + Kf*ηΦ*(Pf - Pf0 - Pt + Pt0) + KΦ*Φ_trial*ηΦ*(Pf - Pf0))/(Kf*KΦ*Δt*ηΦ)"
      ]
     },
     "metadata": {},
     "output_type": "display_data"
    }
   ],
   "source": [
    "dPtdt  = (Pt-Pt0)/dt\n",
    "dPfdt  = (Pf-Pf0)/dt\n",
    "dphidt = elastic/K_phi*(dPfdt-dPtdt) + viscous/eta_phi*(Pf - Pt)\n",
    "# phi    = phi_0 + dphidt*dt\n",
    "\n",
    "# fpt = divVs + (dPtdt-phi*dPfdt)/K_s/(1-phi) + ( (dPtdt-dPfdt)/K_phi + (Pt-Pf)/eta_phi - gamma*sin_psi)/(1-phi)\n",
    "dlnrhosdt = elastic/K_s/(1-phi) * (dPtdt - phi*dPfdt) \n",
    "fpt       = dlnrhosdt - dphidt/(1-phi) + divVs\n",
    "fpt       = fpt.simplify()\n",
    "\n",
    "# fpf = divqD + divVs*phi + gamma*sin_psi + (Pf-Pt)/eta_phi + (dPfdt - dPtdt)/K_phi + phi*dPfdt/K_f\n",
    "dlnrhofdt = dPfdt/K_f\n",
    "fpf       = elastic*phi*dlnrhofdt + dphidt + phi*divVs + divqD\n",
    "fpf       = fpf.simplify()\n",
    "\n",
    "fphi = phi    - (phi_0 + dphidt*dt)\n",
    "\n",
    "display(fpt)\n",
    "display(fpf)"
   ]
  },
  {
   "cell_type": "code",
   "execution_count": 94,
   "id": "62a974cd",
   "metadata": {},
   "outputs": [],
   "source": [
    "P_trial = solve([fpt, fpf], [Pt, Pf])"
   ]
  },
  {
   "cell_type": "code",
   "execution_count": 95,
   "id": "7dd8c0bb",
   "metadata": {},
   "outputs": [
    {
     "data": {
      "text/plain": [
       "'(-Kf .* Ks .* KΦ .* divVs .* Δt .^ 2 - Kf .* Ks .* KΦ .* divqD .* Δt .^ 2 - Kf .* Ks .* divVs .* Δt .* ηΦ - Kf .* Ks .* divqD .* Δt .* ηΦ - Kf .* KΦ .* Pf0 .* Δt .* Φ_trial + Kf .* KΦ .* Pt0 .* Δt - Kf .* KΦ .* divVs .* Δt .* Φ_trial .^ 2 .* ηΦ - Kf .* KΦ .* divqD .* Δt .* Φ_trial .* ηΦ - Kf .* Pt0 .* Φ_trial .* ηΦ + Kf .* Pt0 .* ηΦ + Ks .* KΦ .* Pf0 .* Δt .* Φ_trial + Ks .* KΦ .* divVs .* Δt .* Φ_trial .^ 2 .* ηΦ - Ks .* KΦ .* divVs .* Δt .* Φ_trial .* ηΦ + Ks .* Pt0 .* Φ_trial .* ηΦ + KΦ .* Pt0 .* Φ_trial .* ηΦ) ./ (-Kf .* KΦ .* Δt .* Φ_trial + Kf .* KΦ .* Δt - Kf .* Φ_trial .* ηΦ + Kf .* ηΦ + Ks .* KΦ .* Δt .* Φ_trial + Ks .* Φ_trial .* ηΦ + KΦ .* Φ_trial .* ηΦ)'"
      ]
     },
     "execution_count": 95,
     "metadata": {},
     "output_type": "execute_result"
    }
   ],
   "source": [
    "julia_code(P_trial[Pt].simplify())"
   ]
  },
  {
   "cell_type": "code",
   "execution_count": 96,
   "id": "9f524448",
   "metadata": {},
   "outputs": [
    {
     "data": {
      "text/plain": [
       "'(-Kf .* Ks .* KΦ .* divVs .* Δt .^ 2 - Kf .* Ks .* KΦ .* divqD .* Δt .^ 2 - Kf .* Ks .* divVs .* Δt .* ηΦ - Kf .* Ks .* divqD .* Δt .* ηΦ - Kf .* KΦ .* Pf0 .* Δt .* Φ_trial + Kf .* KΦ .* Pt0 .* Δt - Kf .* KΦ .* divVs .* Δt .* Φ_trial .* ηΦ - Kf .* KΦ .* divqD .* Δt .* ηΦ - Kf .* Pf0 .* Φ_trial .* ηΦ + Kf .* Pf0 .* ηΦ + Ks .* KΦ .* Pf0 .* Δt .* Φ_trial + Ks .* Pf0 .* Φ_trial .* ηΦ + KΦ .* Pf0 .* Φ_trial .* ηΦ) ./ (-Kf .* KΦ .* Δt .* Φ_trial + Kf .* KΦ .* Δt - Kf .* Φ_trial .* ηΦ + Kf .* ηΦ + Ks .* KΦ .* Δt .* Φ_trial + Ks .* Φ_trial .* ηΦ + KΦ .* Φ_trial .* ηΦ)'"
      ]
     },
     "execution_count": 96,
     "metadata": {},
     "output_type": "execute_result"
    }
   ],
   "source": [
    "julia_code(P_trial[Pf].simplify())"
   ]
  },
  {
   "cell_type": "code",
   "execution_count": 97,
   "id": "88a07ece",
   "metadata": {},
   "outputs": [
    {
     "data": {
      "text/plain": [
       "'(KΦ .* Δt .* (Pf - Pt) + KΦ .* Φ0 .* ηΦ + ηΦ .* (Pf - Pf0 - Pt + Pt0)) ./ (KΦ .* ηΦ)'"
      ]
     },
     "execution_count": 97,
     "metadata": {},
     "output_type": "execute_result"
    }
   ],
   "source": [
    "julia_code(solve(fphi, phi)[0] .simplify())"
   ]
  },
  {
   "cell_type": "code",
   "execution_count": 98,
   "id": "5c2a94aa",
   "metadata": {},
   "outputs": [
    {
     "data": {
      "text/plain": [
       "{Pt: (Kf*Ks*KΦ*divVs*Δt**2 + Kf*Ks*KΦ*divqD*Δt**2 + Kf*Ks*divVs*Δt*ηΦ + Kf*Ks*divqD*Δt*ηΦ + Kf*KΦ*Pf0*Δt*Φ_trial - Kf*KΦ*Pt0*Δt + Kf*KΦ*divVs*Δt*Φ_trial**2*ηΦ + Kf*KΦ*divqD*Δt*Φ_trial*ηΦ + Kf*KΦ*sinψ*Δt*Φ_trial*ηΦ*λ̇ + Kf*Pt0*Φ_trial*ηΦ - Kf*Pt0*ηΦ - Ks*KΦ*Pf0*Δt*Φ_trial - Ks*KΦ*divVs*Δt*Φ_trial**2*ηΦ + Ks*KΦ*divVs*Δt*Φ_trial*ηΦ - Ks*KΦ*sinψ*Δt*Φ_trial*ηΦ*λ̇ - Ks*Pt0*Φ_trial*ηΦ - KΦ*Pt0*Φ_trial*ηΦ)/(Kf*KΦ*Δt*Φ_trial - Kf*KΦ*Δt + Kf*Φ_trial*ηΦ - Kf*ηΦ - Ks*KΦ*Δt*Φ_trial - Ks*Φ_trial*ηΦ - KΦ*Φ_trial*ηΦ),\n",
       " Pf: (Kf*Ks*KΦ*divVs*Δt**2 + Kf*Ks*KΦ*divqD*Δt**2 + Kf*Ks*divVs*Δt*ηΦ + Kf*Ks*divqD*Δt*ηΦ + Kf*KΦ*Pf0*Δt*Φ_trial - Kf*KΦ*Pt0*Δt + Kf*KΦ*divVs*Δt*Φ_trial*ηΦ + Kf*KΦ*divqD*Δt*ηΦ + Kf*KΦ*sinψ*Δt*ηΦ*λ̇ + Kf*Pf0*Φ_trial*ηΦ - Kf*Pf0*ηΦ - Ks*KΦ*Pf0*Δt*Φ_trial - Ks*Pf0*Φ_trial*ηΦ - KΦ*Pf0*Φ_trial*ηΦ)/(Kf*KΦ*Δt*Φ_trial - Kf*KΦ*Δt + Kf*Φ_trial*ηΦ - Kf*ηΦ - Ks*KΦ*Δt*Φ_trial - Ks*Φ_trial*ηΦ - KΦ*Φ_trial*ηΦ)}"
      ]
     },
     "execution_count": 98,
     "metadata": {},
     "output_type": "execute_result"
    }
   ],
   "source": [
    "dPtdt  = (Pt-Pt0)/dt\n",
    "dPfdt  = (Pf-Pf0)/dt\n",
    "dphidt = elastic/K_phi*(dPfdt-dPtdt) + viscous/eta_phi*(Pf - Pt) + plastic*gamma*sin_psi\n",
    "# phi    = phi_0 + dphidt*dt\n",
    "\n",
    "dlnrhosdt = elastic/K_s/(1-phi) * (dPtdt - phi*dPfdt) \n",
    "fpt = dlnrhosdt - dphidt/(1-phi) + divVs\n",
    "fpt = fpt.simplify()\n",
    "\n",
    "dlnrhofdt = dPfdt/K_f\n",
    "fpf  = elastic*phi*dlnrhofdt + dphidt + phi*divVs + divqD\n",
    "fpf = fpf.simplify()\n",
    "\n",
    "P_corr = solve([fpt, fpf], [Pt, Pf])\n",
    "P_corr"
   ]
  },
  {
   "cell_type": "code",
   "execution_count": 99,
   "id": "efb72f93",
   "metadata": {},
   "outputs": [
    {
     "data": {
      "text/latex": [
       "$\\displaystyle \\frac{Kf Ks KΦ divVs Δt^{2} + Kf Ks KΦ divqD Δt^{2} + Kf Ks divVs Δt ηΦ + Kf Ks divqD Δt ηΦ + Kf KΦ Pf_{0} Δt Φ_{trial} - Kf KΦ Pt_{0} Δt + Kf KΦ divVs Δt Φ_{trial}^{2} ηΦ + Kf KΦ divqD Δt Φ_{trial} ηΦ + Kf Pt_{0} Φ_{trial} ηΦ - Kf Pt_{0} ηΦ - Ks KΦ Pf_{0} Δt Φ_{trial} - Ks KΦ divVs Δt Φ_{trial}^{2} ηΦ + Ks KΦ divVs Δt Φ_{trial} ηΦ - Ks Pt_{0} Φ_{trial} ηΦ - KΦ Pt_{0} Φ_{trial} ηΦ}{Kf KΦ Δt Φ_{trial} - Kf KΦ Δt + Kf Φ_{trial} ηΦ - Kf ηΦ - Ks KΦ Δt Φ_{trial} - Ks Φ_{trial} ηΦ - KΦ Φ_{trial} ηΦ}$"
      ],
      "text/plain": [
       "(Kf*Ks*KΦ*divVs*Δt**2 + Kf*Ks*KΦ*divqD*Δt**2 + Kf*Ks*divVs*Δt*ηΦ + Kf*Ks*divqD*Δt*ηΦ + Kf*KΦ*Pf0*Δt*Φ_trial - Kf*KΦ*Pt0*Δt + Kf*KΦ*divVs*Δt*Φ_trial**2*ηΦ + Kf*KΦ*divqD*Δt*Φ_trial*ηΦ + Kf*Pt0*Φ_trial*ηΦ - Kf*Pt0*ηΦ - Ks*KΦ*Pf0*Δt*Φ_trial - Ks*KΦ*divVs*Δt*Φ_trial**2*ηΦ + Ks*KΦ*divVs*Δt*Φ_trial*ηΦ - Ks*Pt0*Φ_trial*ηΦ - KΦ*Pt0*Φ_trial*ηΦ)/(Kf*KΦ*Δt*Φ_trial - Kf*KΦ*Δt + Kf*Φ_trial*ηΦ - Kf*ηΦ - Ks*KΦ*Δt*Φ_trial - Ks*Φ_trial*ηΦ - KΦ*Φ_trial*ηΦ)"
      ]
     },
     "execution_count": 99,
     "metadata": {},
     "output_type": "execute_result"
    }
   ],
   "source": [
    "P_trial[Pt]"
   ]
  },
  {
   "cell_type": "code",
   "execution_count": 102,
   "id": "854a9378",
   "metadata": {},
   "outputs": [
    {
     "name": "stdout",
     "output_type": "stream",
     "text": [
      "ΔPt = KΦ .* sinψ .* Δt .* Φ_trial .* ηΦ .* λ̇ .* (-Kf + Ks) ./ (-Kf .* KΦ .* Δt .* Φ_trial + Kf .* KΦ .* Δt - Kf .* Φ_trial .* ηΦ + Kf .* ηΦ + Ks .* KΦ .* Δt .* Φ_trial + Ks .* Φ_trial .* ηΦ + KΦ .* Φ_trial .* ηΦ)\n"
     ]
    }
   ],
   "source": [
    "dPt = ((P_corr[Pt] - P_trial[Pt])).simplify()\n",
    "print('ΔPt = ' +  julia_code(dPt))"
   ]
  },
  {
   "cell_type": "code",
   "execution_count": 103,
   "id": "55a4d967",
   "metadata": {},
   "outputs": [
    {
     "name": "stdout",
     "output_type": "stream",
     "text": [
      "ΔPf = Kf .* KΦ .* sinψ .* Δt .* ηΦ .* λ̇ ./ (Kf .* KΦ .* Δt .* Φ_trial - Kf .* KΦ .* Δt + Kf .* Φ_trial .* ηΦ - Kf .* ηΦ - Ks .* KΦ .* Δt .* Φ_trial - Ks .* Φ_trial .* ηΦ - KΦ .* Φ_trial .* ηΦ)\n"
     ]
    }
   ],
   "source": [
    "dPf = ((P_corr[Pf] - P_trial[Pf])).simplify()\n",
    "julia_code(dPf)\n",
    "print('ΔPf = ' +  julia_code(dPf))"
   ]
  },
  {
   "cell_type": "code",
   "execution_count": null,
   "id": "4d07a83f",
   "metadata": {},
   "outputs": [],
   "source": []
  }
 ],
 "metadata": {
  "kernelspec": {
   "display_name": "Python 3",
   "language": "python",
   "name": "python3"
  },
  "language_info": {
   "codemirror_mode": {
    "name": "ipython",
    "version": 3
   },
   "file_extension": ".py",
   "mimetype": "text/x-python",
   "name": "python",
   "nbconvert_exporter": "python",
   "pygments_lexer": "ipython3",
   "version": "3.9.6"
  }
 },
 "nbformat": 4,
 "nbformat_minor": 5
}
