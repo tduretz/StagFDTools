{
 "cells": [
  {
   "cell_type": "code",
   "execution_count": 216,
   "id": "b63aba39",
   "metadata": {},
   "outputs": [
    {
     "data": {
      "text/plain": [
       "2×3 adjoint(::Matrix{Float64}) with eltype Float64:\n",
       " 0.0       0.0       0.0\n",
       " 0.330008  0.751715  0.818905"
      ]
     },
     "metadata": {},
     "output_type": "display_data"
    }
   ],
   "source": [
    "eta  = 1.0\n",
    "D11 = 2*eta\n",
    "D22 = 2*eta\n",
    "D33 = 2*eta\n",
    "\n",
    "n   = [0, 1]\n",
    "\n",
    "Vx = zeros(4,4)\n",
    "Vy = zeros(5,5)\n",
    "P  = zeros(3,2)\n",
    "\n",
    "Vx[:,1:2] .= rand(4,2)\n",
    "reverse(Vx)'\n",
    "\n",
    "Vy[:,1:3] .= rand(5,3)\n",
    "reverse(Vy)'\n",
    "\n",
    "P[:,1] .= rand(3,1)\n",
    "reverse(P)'\n"
   ]
  },
  {
   "cell_type": "code",
   "execution_count": 217,
   "id": "f9467b52",
   "metadata": {},
   "outputs": [
    {
     "data": {
      "text/plain": [
       "2×3 adjoint(::Matrix{Float64}) with eltype Float64:\n",
       " -0.330008  -0.751715  -0.818905\n",
       "  0.330008   0.751715   0.818905"
      ]
     },
     "metadata": {},
     "output_type": "display_data"
    }
   ],
   "source": [
    "P[:,end] = -P[:,end-1]\n",
    "reverse(P)'"
   ]
  },
  {
   "cell_type": "code",
   "execution_count": 218,
   "id": "7c20c804",
   "metadata": {},
   "outputs": [
    {
     "data": {
      "text/plain": [
       "5×5 adjoint(::Matrix{Float64}) with eltype Float64:\n",
       " 0.51551   -0.624133   1.24806   0.784516  1.46553\n",
       " 0.51551   -0.624133   1.24806   0.784516  1.46553\n",
       " 0.469576   0.524088   0.628831  0.756366  0.695161\n",
       " 0.514637   0.0657471  0.594733  0.334453  0.702378\n",
       " 0.49167    0.639858   0.285119  0.320378  0.317195"
      ]
     },
     "metadata": {},
     "output_type": "display_data"
    }
   ],
   "source": [
    "Vy[:,end-1] = Vy[:,end-2] + (Vy[:,2]-Vy[:,1]) * 2\n",
    "Vy[:,end-0] = Vy[:,end-1]\n",
    "reverse(Vy)'"
   ]
  },
  {
   "cell_type": "code",
   "execution_count": 219,
   "id": "5b44d62e",
   "metadata": {},
   "outputs": [
    {
     "data": {
      "text/plain": [
       "2.0"
      ]
     },
     "metadata": {},
     "output_type": "display_data"
    }
   ],
   "source": [
    "eta  = 1.0\n",
    "D11 = 2*eta\n",
    "D22 = 2*eta\n",
    "D33 = 2*eta"
   ]
  },
  {
   "cell_type": "code",
   "execution_count": 220,
   "id": "8add3339",
   "metadata": {},
   "outputs": [
    {
     "data": {
      "text/plain": [
       "3×2 Matrix{Float64}:\n",
       " 0.931069   0.0375336\n",
       " 0.201437   0.825636\n",
       " 0.177715  -1.53096"
      ]
     },
     "metadata": {},
     "output_type": "display_data"
    }
   ],
   "source": [
    "divV = diff(Vx, dims=1) +  diff(Vy, dims=2)[2:end-1,:]\n",
    "reverse(divV)'\n",
    "Exx  = diff(Vx, dims=1) - 1/3*divV\n",
    "Eyy  = diff(Vy, dims=2)[2:end-1,:] - 1/3*divV\n",
    "Exy  = diff(Vx, dims=2) + diff(Vy, dims=1)[:,2:end-1]\n",
    "Txx  =  2*eta*Exx[:,2:end-1] \n",
    "Tyy  =  2*eta*Eyy[:,2:end-1] \n",
    "Txy  = 2*eta*Exy\n",
    "Sxx  =  Txx #- P\n",
    "Syy  =  Tyy #- P"
   ]
  },
  {
   "cell_type": "code",
   "execution_count": 224,
   "id": "99151bda",
   "metadata": {},
   "outputs": [
    {
     "data": {
      "text/plain": [
       "3×3 Matrix{Float64}:\n",
       " -0.0850835  -1.1782    -0.217469\n",
       " -1.04228    -0.557415  -1.40865\n",
       " -0.203894   -0.900542  -0.732547"
      ]
     },
     "metadata": {},
     "output_type": "display_data"
    }
   ],
   "source": [
    "0.5*(Syy[:,1:end-1] + Syy[:,2:end-0] )\n",
    "0.5*(Txy[1:end-1,:] + Txy[2:end-0,:] )"
   ]
  },
  {
   "cell_type": "code",
   "execution_count": 227,
   "id": "9f164fef",
   "metadata": {},
   "outputs": [
    {
     "ename": "Base.Meta.ParseError",
     "evalue": "ParseError:\n# Error @ jl_notebook_cell_df34fa98e69747e1a8f8a730347b8e2f_W4sdW50aXRsZWQ=.jl:3:2\n# try a stress based formulation (control ghost streses) for a PT scheme\n@ syms Sxx Syy, Sxy\n#╙ ── whitespace is not allowed here",
     "output_type": "error",
     "traceback": [
      "ParseError:\n",
      "# Error @ jl_notebook_cell_df34fa98e69747e1a8f8a730347b8e2f_W4sdW50aXRsZWQ=.jl:3:2\n",
      "# try a stress based formulation (control ghost streses) for a PT scheme\n",
      "@ syms Sxx Syy, Sxy\n",
      "#╙ ── whitespace is not allowed here\n",
      "\n",
      "Stacktrace:\n",
      " [1] top-level scope\n",
      "   @ jl_notebook_cell_df34fa98e69747e1a8f8a730347b8e2f_W4sdW50aXRsZWQ=.jl:3"
     ]
    }
   ],
   "source": [
    "using Symbolics\n",
    "# try a stress based formulation (control ghost streses) for a PT scheme\n",
    "@ syms Sxx Syy, Sxy\n"
   ]
  },
  {
   "cell_type": "code",
   "execution_count": null,
   "id": "4ee9df47",
   "metadata": {},
   "outputs": [],
   "source": []
  }
 ],
 "metadata": {
  "kernelspec": {
   "display_name": "Julia 1.11.4",
   "language": "julia",
   "name": "julia-1.11"
  },
  "language_info": {
   "file_extension": ".jl",
   "mimetype": "application/julia",
   "name": "julia",
   "version": "1.11.4"
  }
 },
 "nbformat": 4,
 "nbformat_minor": 5
}
