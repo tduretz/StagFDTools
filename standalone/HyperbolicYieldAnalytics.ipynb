{
 "cells": [
  {
   "cell_type": "code",
   "execution_count": 40,
   "id": "92cef458",
   "metadata": {},
   "outputs": [],
   "source": [
    "from sympy import *"
   ]
  },
  {
   "cell_type": "code",
   "execution_count": 41,
   "id": "8c58a5ca",
   "metadata": {},
   "outputs": [],
   "source": [
    "τ, C, cosΨ, σt, sinΨ, P = symbols('τ, C, cosΨ, σt, sinΨ, P')"
   ]
  },
  {
   "cell_type": "code",
   "execution_count": 42,
   "id": "51e1742c",
   "metadata": {},
   "outputs": [],
   "source": [
    "F = sqrt(τ**2 + (C * cosΨ - σt*sinΨ)**2) - (P * sinΨ + C * cosΨ) "
   ]
  },
  {
   "cell_type": "code",
   "execution_count": 43,
   "id": "3452f523",
   "metadata": {},
   "outputs": [
    {
     "data": {
      "text/plain": [
       "[-sqrt(sinΨ*(P + σt)*(2*C*cosΨ + P*sinΨ - sinΨ*σt)),\n",
       " sqrt(sinΨ*(P + σt)*(2*C*cosΨ + P*sinΨ - sinΨ*σt))]"
      ]
     },
     "execution_count": 43,
     "metadata": {},
     "output_type": "execute_result"
    }
   ],
   "source": [
    "solve(F, τ)"
   ]
  },
  {
   "cell_type": "code",
   "execution_count": 44,
   "id": "4209e9da",
   "metadata": {},
   "outputs": [],
   "source": [
    "ldot, eta_vp = symbols('ldot, eta_vp')"
   ]
  },
  {
   "cell_type": "code",
   "execution_count": 45,
   "id": "d2259f2d",
   "metadata": {},
   "outputs": [],
   "source": [
    "F = sqrt(τ**2 + (C * cosΨ + σt*sinΨ)**2) - (P * sinΨ + C * cosΨ) - ldot*eta_vp"
   ]
  },
  {
   "cell_type": "code",
   "execution_count": 46,
   "id": "edcc0191",
   "metadata": {},
   "outputs": [
    {
     "data": {
      "text/plain": [
       "[-sqrt((P*sinΨ + eta_vp*ldot - sinΨ*σt)*(2*C*cosΨ + P*sinΨ + eta_vp*ldot + sinΨ*σt)),\n",
       " sqrt((P*sinΨ + eta_vp*ldot - sinΨ*σt)*(2*C*cosΨ + P*sinΨ + eta_vp*ldot + sinΨ*σt))]"
      ]
     },
     "execution_count": 46,
     "metadata": {},
     "output_type": "execute_result"
    }
   ],
   "source": [
    "solve(F, τ)"
   ]
  },
  {
   "cell_type": "code",
   "execution_count": 47,
   "id": "10a6110e",
   "metadata": {},
   "outputs": [
    {
     "data": {
      "text/latex": [
       "$\\displaystyle 0$"
      ],
      "text/plain": [
       "0"
      ]
     },
     "execution_count": 47,
     "metadata": {},
     "output_type": "execute_result"
    }
   ],
   "source": [
    "# Make sure yield plots on the surface for DP\n",
    "cosϕ, sinϕ, ηvp, λ̇ = symbols('cosϕ, sinϕ, ηvp, λ̇')\n",
    "Fvp = τ - P*sinϕ - C*cosϕ - λ̇*ηvp\n",
    "τvp = solve(Fvp, τ)[0]\n",
    "τ_app = τvp   -  λ̇*ηvp\n",
    "F = τ_app - P*sinϕ - C*cosϕ \n",
    "F"
   ]
  },
  {
   "cell_type": "code",
   "execution_count": 48,
   "id": "dd8fd98f",
   "metadata": {},
   "outputs": [
    {
     "data": {
      "text/latex": [
       "$\\displaystyle - C cosϕ - P sinϕ + \\sqrt{\\frac{\\left(τ^{2} + \\left(C cosϕ + sinϕ σt\\right)^{2}\\right) \\left(C cosϕ + sinϕ σt\\right)^{2} + \\left(ηvp λ̇ τ + \\sqrt{\\left(P sinϕ - sinϕ σt + ηvp λ̇\\right) \\left(2 C cosϕ + P sinϕ + sinϕ σt + ηvp λ̇\\right)} \\sqrt{τ^{2} + \\left(C cosϕ + sinϕ σt\\right)^{2}}\\right)^{2}}{τ^{2} + \\left(C cosϕ + sinϕ σt\\right)^{2}}}$"
      ],
      "text/plain": [
       "-C*cosϕ - P*sinϕ + sqrt(((τ**2 + (C*cosϕ + sinϕ*σt)**2)*(C*cosϕ + sinϕ*σt)**2 + (ηvp*λ̇*τ + sqrt((P*sinϕ - sinϕ*σt + ηvp*λ̇)*(2*C*cosϕ + P*sinϕ + sinϕ*σt + ηvp*λ̇))*sqrt(τ**2 + (C*cosϕ + sinϕ*σt)**2))**2)/(τ**2 + (C*cosϕ + sinϕ*σt)**2))"
      ]
     },
     "execution_count": 48,
     "metadata": {},
     "output_type": "execute_result"
    }
   ],
   "source": [
    "B      = C * cosϕ + σt*sinϕ\n",
    "Fvp    = sqrt(τ**2 + B**2) - (P * sinϕ + C * cosϕ) - λ̇*ηvp\n",
    "τvp    = solve(Fvp, τ)[0]\n",
    "dQdtau = τ/sqrt(τ**2 + B**2)\n",
    "τ_app  = τvp -  λ̇*ηvp*dQdtau\n",
    "F      = sqrt(τ_app**2 + B**2) - (P * sinϕ + C * cosϕ)\n",
    "F.simplify()"
   ]
  },
  {
   "cell_type": "code",
   "execution_count": null,
   "id": "4cbaef1b",
   "metadata": {},
   "outputs": [],
   "source": []
  }
 ],
 "metadata": {
  "kernelspec": {
   "display_name": "Python 3",
   "language": "python",
   "name": "python3"
  },
  "language_info": {
   "codemirror_mode": {
    "name": "ipython",
    "version": 3
   },
   "file_extension": ".py",
   "mimetype": "text/x-python",
   "name": "python",
   "nbconvert_exporter": "python",
   "pygments_lexer": "ipython3",
   "version": "3.9.6"
  }
 },
 "nbformat": 4,
 "nbformat_minor": 5
}
