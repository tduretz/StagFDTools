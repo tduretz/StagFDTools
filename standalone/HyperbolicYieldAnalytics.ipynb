{
 "cells": [
  {
   "cell_type": "code",
   "execution_count": 2,
   "id": "92cef458",
   "metadata": {},
   "outputs": [],
   "source": [
    "from sympy import *"
   ]
  },
  {
   "cell_type": "code",
   "execution_count": 3,
   "id": "8c58a5ca",
   "metadata": {},
   "outputs": [],
   "source": [
    "τ, C, cosΨ, σt, sinΨ, P = symbols('τ, C, cosΨ, σt, sinΨ, P')"
   ]
  },
  {
   "cell_type": "code",
   "execution_count": 4,
   "id": "51e1742c",
   "metadata": {},
   "outputs": [],
   "source": [
    "F = sqrt(τ**2 + (C * cosΨ - σt*sinΨ)**2) - (P * sinΨ + C * cosΨ) "
   ]
  },
  {
   "cell_type": "code",
   "execution_count": 5,
   "id": "3452f523",
   "metadata": {},
   "outputs": [
    {
     "data": {
      "text/plain": [
       "[-sqrt(sinΨ*(P + σt)*(2*C*cosΨ + P*sinΨ - sinΨ*σt)),\n",
       " sqrt(sinΨ*(P + σt)*(2*C*cosΨ + P*sinΨ - sinΨ*σt))]"
      ]
     },
     "execution_count": 5,
     "metadata": {},
     "output_type": "execute_result"
    }
   ],
   "source": [
    "solve(F, τ)"
   ]
  },
  {
   "cell_type": "code",
   "execution_count": 6,
   "id": "4209e9da",
   "metadata": {},
   "outputs": [],
   "source": [
    "ldot, eta_vp = symbols('ldot, eta_vp')"
   ]
  },
  {
   "cell_type": "code",
   "execution_count": 7,
   "id": "d2259f2d",
   "metadata": {},
   "outputs": [],
   "source": [
    "F = sqrt(τ**2 + (C * cosΨ + σt*sinΨ)**2) - (P * sinΨ + C * cosΨ) - ldot*eta_vp"
   ]
  },
  {
   "cell_type": "code",
   "execution_count": 8,
   "id": "edcc0191",
   "metadata": {},
   "outputs": [
    {
     "data": {
      "text/plain": [
       "[-sqrt((P*sinΨ + eta_vp*ldot - sinΨ*σt)*(2*C*cosΨ + P*sinΨ + eta_vp*ldot + sinΨ*σt)),\n",
       " sqrt((P*sinΨ + eta_vp*ldot - sinΨ*σt)*(2*C*cosΨ + P*sinΨ + eta_vp*ldot + sinΨ*σt))]"
      ]
     },
     "execution_count": 8,
     "metadata": {},
     "output_type": "execute_result"
    }
   ],
   "source": [
    "solve(F, τ)"
   ]
  },
  {
   "cell_type": "code",
   "execution_count": null,
   "id": "10a6110e",
   "metadata": {},
   "outputs": [
    {
     "data": {
      "text/latex": [
       "$\\displaystyle 0$"
      ],
      "text/plain": [
       "0"
      ]
     },
     "execution_count": 24,
     "metadata": {},
     "output_type": "execute_result"
    }
   ],
   "source": [
    "# Make sure yield plots on the surface for DP\n",
    "cosϕ, sinϕ, ηvp, λ̇ = symbols('cosϕ, sinϕ, ηvp, λ̇')\n",
    "Fvp = τ - P*sinϕ - C*cosϕ - λ̇*ηvp\n",
    "τvp = solve(Fvp, τ)[0]\n",
    "τ_app = τvp   -  λ̇*ηvp\n",
    "F = τ_app - P*sinϕ - C*cosϕ \n",
    "F"
   ]
  },
  {
   "cell_type": "code",
   "execution_count": null,
   "id": "dd8fd98f",
   "metadata": {},
   "outputs": [],
   "source": []
  }
 ],
 "metadata": {
  "kernelspec": {
   "display_name": "Python 3",
   "language": "python",
   "name": "python3"
  },
  "language_info": {
   "codemirror_mode": {
    "name": "ipython",
    "version": 3
   },
   "file_extension": ".py",
   "mimetype": "text/x-python",
   "name": "python",
   "nbconvert_exporter": "python",
   "pygments_lexer": "ipython3",
   "version": "3.9.6"
  }
 },
 "nbformat": 4,
 "nbformat_minor": 5
}
