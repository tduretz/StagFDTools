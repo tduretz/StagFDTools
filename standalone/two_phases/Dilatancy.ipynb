{
 "cells": [
  {
   "cell_type": "code",
   "execution_count": 83,
   "id": "b97527f5",
   "metadata": {},
   "outputs": [],
   "source": [
    "using Symbolics\n"
   ]
  },
  {
   "cell_type": "code",
   "execution_count": 84,
   "id": "3dcfcf66",
   "metadata": {},
   "outputs": [
    {
     "data": {
      "text/plain": [
       "(::Differential) (generic function with 3 methods)"
      ]
     },
     "metadata": {},
     "output_type": "display_data"
    }
   ],
   "source": [
    "\n",
    "@variables  t\n",
    "@syms β ρ0 \n",
    "@variables Pt(t) ϕ(t)\n",
    "\n",
    "Dt = Differential(t)"
   ]
  },
  {
   "cell_type": "code",
   "execution_count": 85,
   "id": "e9564c5c",
   "metadata": {},
   "outputs": [
    {
     "data": {
      "text/latex": [
       "$$ \\begin{equation}\n",
       "e^{\\mathrm{Pt}\\left( t \\right) \\beta} {\\rho}0\n",
       "\\end{equation}\n",
       " $$"
      ],
      "text/plain": [
       "exp(Pt(t)*β)*ρ0"
      ]
     },
     "metadata": {},
     "output_type": "display_data"
    }
   ],
   "source": [
    "ρ = ρ0 * exp(β*Pt)"
   ]
  },
  {
   "cell_type": "code",
   "execution_count": 86,
   "id": "501f440a",
   "metadata": {},
   "outputs": [
    {
     "data": {
      "text/latex": [
       "$$ \\begin{equation}\n",
       "\\frac{\\mathrm{d} \\mathrm{Pt}\\left( t \\right)}{\\mathrm{d}t} \\beta\n",
       "\\end{equation}\n",
       " $$"
      ],
      "text/plain": [
       "Differential(t)(Pt(t))*β"
      ]
     },
     "metadata": {},
     "output_type": "display_data"
    }
   ],
   "source": [
    "expand_derivatives(Dt(ρ)) / ρ"
   ]
  },
  {
   "cell_type": "code",
   "execution_count": 87,
   "id": "aa99fc02",
   "metadata": {},
   "outputs": [
    {
     "data": {
      "text/latex": [
       "$$ \\begin{equation}\n",
       "div_{Vs} + \\frac{\\frac{\\mathrm{d}}{\\mathrm{d}t} pt - \\phi\\left( t \\right) \\frac{\\mathrm{d}}{\\mathrm{d}t} pf}{Ks \\left( 1 - \\phi\\left( t \\right) \\right)} + \\frac{\\frac{ - \\frac{\\mathrm{d}}{\\mathrm{d}t} pf + \\frac{\\mathrm{d}}{\\mathrm{d}t} pt}{K\\phi} + \\frac{ - pf + pt}{\\eta\\phi} - sin\\psi \\dot{\\lambda}}{1 - \\phi\\left( t \\right)}\n",
       "\\end{equation}\n",
       " $$"
      ],
      "text/plain": [
       "div_Vs + (Differential(t)(pt) - ϕ(t)*Differential(t)(pf)) / (Ks*(1 - ϕ(t))) + ((-Differential(t)(pf) + Differential(t)(pt)) / Kϕ + (-pf + pt) / ηϕ - sinψ*λ̇) / (1 - ϕ(t))"
      ]
     },
     "metadata": {},
     "output_type": "display_data"
    }
   ],
   "source": [
    "@syms ρs div_Vs Ks λ̇ sinψ\n",
    "@syms pf pt Kϕ ηϕ\n",
    "dϕdt    = 1/Kϕ *(Dt(pf) - Dt(pt)) + 1/ηϕ*(pf - pt) + λ̇*sinψ\n",
    "dlnρsdt = 1/Ks/(1-ϕ) * (Dt(pt) - ϕ*Dt(pf)) \n",
    "f_solid  = dlnρsdt -  dϕdt/(1-ϕ) + div_Vs "
   ]
  },
  {
   "cell_type": "code",
   "execution_count": 88,
   "id": "6a030580",
   "metadata": {},
   "outputs": [
    {
     "data": {
      "text/latex": [
       "$$ \\begin{equation}\n",
       "div_{qD} + \\frac{pf - pt}{\\eta\\phi} + \\frac{\\frac{\\mathrm{d}}{\\mathrm{d}t} pf - \\frac{\\mathrm{d}}{\\mathrm{d}t} pt}{K\\phi} + \\frac{\\phi\\left( t \\right) \\frac{\\mathrm{d}}{\\mathrm{d}t} pf}{Kf} + div_{Vs} \\phi\\left( t \\right) + sin\\psi \\dot{\\lambda}\n",
       "\\end{equation}\n",
       " $$"
      ],
      "text/plain": [
       "div_qD + (pf - pt) / ηϕ + (Differential(t)(pf) - Differential(t)(pt)) / Kϕ + (ϕ(t)*Differential(t)(pf)) / Kf + div_Vs*ϕ(t) + sinψ*λ̇"
      ]
     },
     "metadata": {},
     "output_type": "display_data"
    }
   ],
   "source": [
    "@syms Kf div_qD\n",
    "dlnρfdt = 1/Kf * Dt(pf) \n",
    "f_fluid  = ϕ*dlnρfdt + dϕdt + ϕ*div_Vs + div_qD"
   ]
  },
  {
   "cell_type": "code",
   "execution_count": 89,
   "id": "3deb78c1",
   "metadata": {},
   "outputs": [],
   "source": [
    "# Symbolics.collect_terms( Symbolics.solve_for(f_solid, div_Vs), Dt(pt))"
   ]
  },
  {
   "cell_type": "code",
   "execution_count": 90,
   "id": "cbafa3e9",
   "metadata": {},
   "outputs": [],
   "source": []
  }
 ],
 "metadata": {
  "kernelspec": {
   "display_name": "Julia 1.11.4",
   "language": "julia",
   "name": "julia-1.11"
  },
  "language_info": {
   "file_extension": ".jl",
   "mimetype": "application/julia",
   "name": "julia",
   "version": "1.11.4"
  }
 },
 "nbformat": 4,
 "nbformat_minor": 5
}
